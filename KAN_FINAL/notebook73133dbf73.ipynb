version https://git-lfs.github.com/spec/v1
oid sha256:60164e9732a2c21b678f324339a01939d667e2be0b4b6446a349e748ee461be9
size 686571

version https://git-lfs.github.com/spec/v1
oid sha256:991a50e5b8ac78bfe7ca78ff666098af5b4faf4f3a7ef355f2234a7ce7b18697
size 687180

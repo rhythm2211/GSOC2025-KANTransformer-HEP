version https://git-lfs.github.com/spec/v1
oid sha256:7170b96803764fe87171c16f00dd34479c8a0e00ab4e2149cf50cb62dff79061
size 970435
